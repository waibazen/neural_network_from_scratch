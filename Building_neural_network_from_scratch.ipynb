{
  "nbformat": 4,
  "nbformat_minor": 0,
  "metadata": {
    "colab": {
      "name": "Building neural network from scratch.ipynb",
      "provenance": [],
      "collapsed_sections": [],
      "authorship_tag": "ABX9TyPcF4A8Xc22zcmsDVUWbEsO",
      "include_colab_link": true
    },
    "kernelspec": {
      "name": "python3",
      "display_name": "Python 3"
    }
  },
  "cells": [
    {
      "cell_type": "markdown",
      "metadata": {
        "id": "view-in-github",
        "colab_type": "text"
      },
      "source": [
        "<a href=\"https://colab.research.google.com/github/waibazen/neural_network_from_scratch/blob/master/Building_neural_network_from_scratch.ipynb\" target=\"_parent\"><img src=\"https://colab.research.google.com/assets/colab-badge.svg\" alt=\"Open In Colab\"/></a>"
      ]
    },
    {
      "cell_type": "code",
      "metadata": {
        "id": "B-teG3HJ6Unn",
        "colab_type": "code",
        "colab": {}
      },
      "source": [
        "#importing required packages\n",
        "import numpy as np\n",
        "import matplotlib"
      ],
      "execution_count": 0,
      "outputs": []
    },
    {
      "cell_type": "code",
      "metadata": {
        "id": "2LiXfqWy6rm3",
        "colab_type": "code",
        "colab": {}
      },
      "source": [
        "#first input layer 4 nodes to one \n",
        "\n",
        "inputs=[1.2,2.4,3.8,4.6]#four unique features from single sample\n",
        "weights=[3.1,2.5,1.2,1.8]\n",
        "bias=4\n",
        "output=inputs[0]*weights[0]+inputs[1]*weights[1]+inputs[2]*weights[2]+inputs[3]*weights[3]+bias"
      ],
      "execution_count": 0,
      "outputs": []
    },
    {
      "cell_type": "code",
      "metadata": {
        "id": "3mwTSFLW7Q_6",
        "colab_type": "code",
        "outputId": "979bf6ee-03dd-4183-959e-c760d2829286",
        "colab": {
          "base_uri": "https://localhost:8080/",
          "height": 34
        }
      },
      "source": [
        "print(output)"
      ],
      "execution_count": 0,
      "outputs": [
        {
          "output_type": "stream",
          "text": [
            "26.559999999999995\n"
          ],
          "name": "stdout"
        }
      ]
    },
    {
      "cell_type": "code",
      "metadata": {
        "id": "32TfaH427T0H",
        "colab_type": "code",
        "outputId": "789e7c76-e225-4f84-8e40-e4aa0e89aeb3",
        "colab": {
          "base_uri": "https://localhost:8080/",
          "height": 34
        }
      },
      "source": [
        "#last input hidden layer 4 nodes  to output layer 3 nodes\n",
        "\n",
        "inputs=[1.2,2.4,3.8,4.6]\n",
        "weights1=[3.1,2.5,1.2,1.8]\n",
        "weights2=[3.1,2.4,1.3,1.8]\n",
        "weights3=[3.1,2.7,1.4,1.9]\n",
        "\n",
        "\n",
        "bias1=4\n",
        "bias2=5\n",
        "bias3=6\n",
        "\n",
        "output=[inputs[0]*weights1[0]+inputs[1]*weights1[1]+inputs[2]*weights1[2]+inputs[3]*weights1[3]+bias1,\n",
        "      inputs[0]*weights2[0]+inputs[1]*weights2[1]+inputs[2]*weights2[2]+inputs[3]*weights2[3]+bias2,\n",
        "    inputs[0]*weights3[0]+inputs[1]*weights3[1]+inputs[2]*weights3[2]+inputs[3]*weights3[3]+bias3]\n",
        "print(output)"
      ],
      "execution_count": 0,
      "outputs": [
        {
          "output_type": "stream",
          "text": [
            "[26.559999999999995, 27.7, 30.259999999999998]\n"
          ],
          "name": "stdout"
        }
      ]
    },
    {
      "cell_type": "code",
      "metadata": {
        "id": "lYviz9dh_Vx1",
        "colab_type": "code",
        "outputId": "05ae50f0-67fc-4b19-e225-104efec4324f",
        "colab": {
          "base_uri": "https://localhost:8080/",
          "height": 34
        }
      },
      "source": [
        "#using dot product to calculate output\n",
        "inputs=[1.2,2.4,3.8,4.6]\n",
        "weights=[[3.1,2.5,1.2,1.8],[3.1,2.4,1.3,1.8],[3.1,2.7,1.4,1.9]]\n",
        "biases=[4,5,6]\n",
        "output=np.dot(weights,inputs)+biases\n",
        "print(output)"
      ],
      "execution_count": 0,
      "outputs": [
        {
          "output_type": "stream",
          "text": [
            "[26.56 27.7  30.26]\n"
          ],
          "name": "stdout"
        }
      ]
    },
    {
      "cell_type": "code",
      "metadata": {
        "id": "DeOlWdQjC7SV",
        "colab_type": "code",
        "outputId": "3001bf21-8016-4db5-c3d5-3038075b8530",
        "colab": {
          "base_uri": "https://localhost:8080/",
          "height": 68
        }
      },
      "source": [
        "#using matrix product to calculate output for batches of sample\n",
        "inputs=[[1.2,2.4,3.8,4.6],\n",
        "        [1.3,2.8,3.0,4.7],\n",
        "        [1.4,2.4,3.9,4.6]]#3 samples per batch\n",
        "weights=[[3.1,2.5,1.2,1.8],\n",
        "         [3.1,2.4,1.3,1.8],\n",
        "         [3.1,2.7,1.4,1.9]]\n",
        "biases=[4,5,6]\n",
        "output=np.dot(inputs,np.array(weights).T)+biases#transposing an array of weights\n",
        "print(output)"
      ],
      "execution_count": 34,
      "outputs": [
        {
          "output_type": "stream",
          "text": [
            "[[26.56 27.7  30.26]\n",
            " [27.09 28.11 30.72]\n",
            " [27.3  28.45 31.02]]\n"
          ],
          "name": "stdout"
        }
      ]
    },
    {
      "cell_type": "code",
      "metadata": {
        "id": "5IkUfCNfG3-i",
        "colab_type": "code",
        "outputId": "37205994-65ed-4306-d51d-aa00e337ab8c",
        "colab": {
          "base_uri": "https://localhost:8080/",
          "height": 119
        }
      },
      "source": [
        "#adding 2nd layer in NN\n",
        "inputs=[[1.2,2.4,3.8,4.6],\n",
        "        [1.3,2.8,3.0,4.7],\n",
        "        [1.4,2.4,3.9,4.6]]#3 samples per batch\n",
        "weights2=[[3.1,2.5,1.2],#new weights according to input layers size\n",
        "         [3.1,2.4,1.3],\n",
        "         [3.1,2.7,1.4]]\n",
        "biases2=[0.1,-2.9,3.4]\n",
        "layer_output1=np.dot(inputs,np.array(weights).T)+biases#transposing an array of weights\n",
        "print(layer_output1)\n",
        "\n",
        "layer_output2=np.dot(layer_output1,np.array(weights2).T)+biases2#these hidden layers are tweaked by machine\n",
        "print(layer_output2)"
      ],
      "execution_count": 0,
      "outputs": [
        {
          "output_type": "stream",
          "text": [
            "[[26.56 27.7  30.26]\n",
            " [27.09 28.11 30.72]\n",
            " [27.3  28.45 31.02]]\n",
            "[[187.998 185.254 202.89 ]\n",
            " [191.218 188.479 206.284]\n",
            " [193.079 190.336 208.273]]\n"
          ],
          "name": "stdout"
        }
      ]
    },
    {
      "cell_type": "code",
      "metadata": {
        "id": "gQqDwS-_KJJK",
        "colab_type": "code",
        "outputId": "ac872a53-0558-4c34-8d25-aeb667416898",
        "colab": {
          "base_uri": "https://localhost:8080/",
          "height": 119
        }
      },
      "source": [
        "#now using syntax in ML\n",
        "np.random.seed(0)\n",
        "X=[[1.2,2.4,3.8,4.6],\n",
        "        [1.3,2.8,3.0,4.7],\n",
        "        [1.4,2.4,3.9,4.6]]#3 samples per batch\n",
        "\n",
        "\n",
        "\n",
        "class Layer_Dense:\n",
        "  def __init__(self, n_inputs,n_neurons):\n",
        "    self.weights=0.10*np.random.randn(n_inputs,n_neurons)\n",
        "    self.biases=np.zeros((1,n_neurons))\n",
        "  def forward(self,inputs):\n",
        "      self.output=np.dot(inputs,self.weights)+self.biases\n",
        "#print (np.random.randn(4,3))\n",
        "layer1=Layer_Dense(4,5)\n",
        "layer2=Layer_Dense(5,2)\n",
        "layer1.forward(X)\n",
        "print(layer1.output)\n",
        "layer2.forward(layer1.output)\n",
        "print(layer2.output)"
      ],
      "execution_count": 36,
      "outputs": [
        {
          "output_type": "stream",
          "text": [
            "[[0.18536634 1.51594039 0.27594436 0.43438231 0.09843459]\n",
            " [0.155729   1.45654441 0.21674285 0.44605916 0.08948409]\n",
            " [0.22208782 1.53848627 0.3031295  0.48041692 0.14022438]]\n",
            "[[ 0.16342765 -0.13419167]\n",
            " [ 0.15110386 -0.12464431]\n",
            " [ 0.1687881  -0.13213975]]\n"
          ],
          "name": "stdout"
        }
      ]
    },
    {
      "cell_type": "code",
      "metadata": {
        "id": "s99znI6j1t9x",
        "colab_type": "code",
        "colab": {}
      },
      "source": [
        ""
      ],
      "execution_count": 0,
      "outputs": []
    },
    {
      "cell_type": "code",
      "metadata": {
        "id": "jt6lXUQJOxca",
        "colab_type": "code",
        "outputId": "d413ca3d-34b6-4fbf-9fe7-c58591e1110b",
        "colab": {
          "base_uri": "https://localhost:8080/",
          "height": 34
        }
      },
      "source": [
        "#simple ReLU(Rectified Linear unit) function\n",
        "\n",
        "X=[1.2,2.4,3.8,4.6,45,23,100,-5]\n",
        "output=[]\n",
        "for i in X:\n",
        "  if i>0:\n",
        "       output.append(i)\n",
        "  elif i<=0:\n",
        "      output.append(0)\n",
        "\n",
        "print (output)\n"
      ],
      "execution_count": 37,
      "outputs": [
        {
          "output_type": "stream",
          "text": [
            "[1.2, 2.4, 3.8, 4.6, 45, 23, 100, 0]\n"
          ],
          "name": "stdout"
        }
      ]
    },
    {
      "cell_type": "code",
      "metadata": {
        "id": "xKJbPacu7ohp",
        "colab_type": "code",
        "colab": {}
      },
      "source": [
        "!pip install -q nnfs"
      ],
      "execution_count": 0,
      "outputs": []
    },
    {
      "cell_type": "code",
      "metadata": {
        "id": "8fjcsX-E3VYF",
        "colab_type": "code",
        "colab": {
          "base_uri": "https://localhost:8080/",
          "height": 487
        },
        "outputId": "70a190b0-4e94-408e-db9b-c621cfaf62a7"
      },
      "source": [
        "#now using syntax in ML\n",
        "import nnfs\n",
        "nnfs.init()\n",
        "from nnfs.datasets import spiral_data\n",
        "np.random.seed(0)\n",
        "#X=[[1.2,2.4,3.8,4.6],\n",
        "     #   [1.3,2.8,3.0,4.7],\n",
        "       # [1.4,2.4,3.9,4.6]]#3 samples per batch\n",
        "def create_data(points, classes):\n",
        "    X = np.zeros((points*classes, 2))\n",
        "    y = np.zeros(points*classes, dtype='uint8')\n",
        "    for class_number in range(classes):\n",
        "        ix = range(points*class_number, points*(class_number+1))\n",
        "        r = np.linspace(0.0, 1, points)  # radius\n",
        "        t = np.linspace(class_number*4, (class_number+1)*4, points) + np.random.randn(points)*0.2\n",
        "        X[ix] = np.c_[r*np.sin(t*2.5), r*np.cos(t*2.5)]\n",
        "        y[ix] = class_number\n",
        "    return X, y\n",
        "\n",
        "\n",
        "import matplotlib.pyplot as plt\n",
        "    \n",
        "X,y = create_data(100,3)\n",
        "plt.scatter(X[:, 0], X[:, 1], c=y, s=40, cmap=plt.cm.Spectral)\n",
        "plt.show()  \n",
        "\n",
        "\n",
        "class Layer_Dense:\n",
        "  def __init__(self, n_inputs,n_neurons):\n",
        "    self.weights=0.10*np.random.randn(n_inputs,n_neurons)\n",
        "    self.biases=np.zeros((1,n_neurons))\n",
        "  def forward(self,inputs):\n",
        "      self.output=np.dot(inputs,self.weights)+self.biases\n",
        "\n",
        "class Activation_ReLU:\n",
        "  def forward(self,inputs):\n",
        "    self.output=np.maximum(0,inputs)\n",
        "\n",
        "layer1= Layer_Dense(2,5)\n",
        "\n",
        "activation1 = Activation_ReLU()\n",
        "\n",
        "layer1.forward(X)\n",
        "#print(layer1.output)\n",
        "activation1.forward(layer1.output)\n",
        "\n",
        "print(activation1.output)"
      ],
      "execution_count": 61,
      "outputs": [
        {
          "output_type": "display_data",
          "data": {
            "image/png": "[encoded data removed]",
            "text/plain": [
              "<Figure size 432x288 with 1 Axes>"
            ]
          },
          "metadata": {
            "tags": [],
            "needs_background": "light"
          }
        },
        {
          "output_type": "stream",
          "text": [
            "[[0.00000000e+00 0.00000000e+00 0.00000000e+00 0.00000000e+00\n",
            "  0.00000000e+00]\n",
            " [0.00000000e+00 0.00000000e+00 0.00000000e+00 4.65504505e-04\n",
            "  4.56846210e-05]\n",
            " [0.00000000e+00 5.93469958e-05 0.00000000e+00 2.03573116e-04\n",
            "  6.10024377e-04]\n",
            " ...\n",
            " [1.13291524e-01 0.00000000e+00 0.00000000e+00 8.11079666e-02\n",
            "  0.00000000e+00]\n",
            " [1.34588361e-01 0.00000000e+00 3.09493970e-02 5.66337556e-02\n",
            "  0.00000000e+00]\n",
            " [1.07817926e-01 0.00000000e+00 0.00000000e+00 8.72561932e-02\n",
            "  0.00000000e+00]]\n"
          ],
          "name": "stdout"
        }
      ]
    }
  ]
}